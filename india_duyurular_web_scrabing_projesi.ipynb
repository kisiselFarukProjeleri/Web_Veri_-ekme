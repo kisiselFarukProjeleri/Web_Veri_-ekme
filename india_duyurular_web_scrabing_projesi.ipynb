{
 "cells": [
  {
   "cell_type": "markdown",
   "metadata": {},
   "source": [
    "# soru 1\n",
    "verilen linkle requests ile istek atın sonra beautifulsoup4 ile içeriği html olarak yazdırın."
   ]
  },
  {
   "cell_type": "code",
   "execution_count": 8,
   "metadata": {},
   "outputs": [],
   "source": [
    "import requests \n",
    "url = requests.get('https://presidentofindia.nic.in/speeches')"
   ]
  },
  {
   "cell_type": "code",
   "execution_count": 9,
   "metadata": {},
   "outputs": [
    {
     "name": "stdout",
     "output_type": "stream",
     "text": [
      "<!DOCTYPE html>\n",
      "<html lang=\"en\" dir=\"ltr\">\n",
      "  <head>\n",
      "    <meta charset=\"utf-8\" />\n",
      "<meta name=\"description\" content=\"Speeches - | President of India\" />\n",
      "<meta name=\"keywords\" content=\"President of India | Speeches\" />\n",
      "<link rel=\"canonical\" href=\"http://presidentofindia.nic.in/speeches\" />\n",
      "<link rel=\"manifest\" href=\"/manifest.json\" />\n",
      "<meta name=\"theme-color\" content=\"#ffffff\" />\n",
      "<meta name=\"Generator\" content=\"Drupal 10 (https://www.drupal.org)\" />\n",
      "<meta name=\"MobileOptimized\" content=\"width\" />\n",
      "<\n"
     ]
    }
   ],
   "source": [
    "print(url.text[:500])"
   ]
  },
  {
   "cell_type": "code",
   "execution_count": null,
   "metadata": {},
   "outputs": [],
   "source": [
    "from bs4 import BeautifulSoup\n",
    "soup= BeautifulSoup(url.text, 'html.parser') \n",
    "print(soup.prettify())  "
   ]
  },
  {
   "cell_type": "markdown",
   "metadata": {},
   "source": [
    "# soru 2\n",
    "\n",
    "soup nesnesinden table etiketinden views-table classından verileri bulun ve yazdırın."
   ]
  },
  {
   "cell_type": "code",
   "execution_count": 21,
   "metadata": {},
   "outputs": [],
   "source": [
    "konusma_tablosu = soup.find_all('table', class_ ='views-table') "
   ]
  },
  {
   "cell_type": "code",
   "execution_count": 22,
   "metadata": {},
   "outputs": [
    {
     "data": {
      "text/plain": [
       "1"
      ]
     },
     "execution_count": 22,
     "metadata": {},
     "output_type": "execute_result"
    }
   ],
   "source": [
    "len(konusma_tablosu)"
   ]
  },
  {
   "cell_type": "code",
   "execution_count": 25,
   "metadata": {},
   "outputs": [
    {
     "data": {
      "text/plain": [
       "[<table class=\"views-table views-view-table cols-3\">\n",
       " <thead>\n",
       " <tr>\n",
       " <th class=\"views-field views-field-counter\" id=\"view-counter-table-column\" scope=\"col\">Sr. No.</th>\n",
       " <th class=\"views-field views-field-field-speeches-date\" id=\"view-field-speeches-date-table-column\" scope=\"col\">Issue Date</th>\n",
       " <th class=\"views-field views-field-field-speeches\" id=\"view-field-speeches-table-column\" scope=\"col\">Title</th>\n",
       " </tr>\n",
       " </thead>\n",
       " <tbody>\n",
       " <tr>\n",
       " <td class=\"views-field views-field-counter\" headers=\"view-counter-table-column\">1          </td>\n",
       " <td class=\"views-field views-field-field-speeches-date\" headers=\"view-field-speeches-date-table-column\">26-12-2024          </td>\n",
       " <td class=\"views-field views-field-field-speeches\" headers=\"view-field-speeches-table-column\"><a href=\"/speeches/bhaarata-kai-raasatarapatai-saraimatai-daraaupadai-mauramau-kaa-paradhaana-mantarai\">भारत की राष्ट्रपति श्रीमती द्रौपदी मुर्मु का प्रधान मंत्री राष्ट्रीय बाल पुरस्कार समारोह में सम्बोधन (HINDI)</a> </td>\n",
       " </tr>\n",
       " <tr>\n",
       " <td class=\"views-field views-field-counter\" headers=\"view-counter-table-column\">2          </td>\n",
       " <td class=\"views-field views-field-field-speeches-date\" headers=\"view-field-speeches-date-table-column\">23-12-2024          </td>\n",
       " <td class=\"views-field views-field-field-speeches\" headers=\"view-field-speeches-table-column\"><a href=\"/speeches/bhaarata-kai-raasatarapatai-saraimatai-daraaupadai-mauramau-kaa-varadhamaana-mahaavaira\">भारत की राष्ट्रपति, श्रीमती द्रौपदी मुर्मु का वर्धमान महावीर मेडिकल कॉलेज एवं सफदरजंग अस्पताल के दीक्षांत समारोह में सम्बोधन (HINDI)</a> </td>\n",
       " </tr>\n",
       " <tr>\n",
       " <td class=\"views-field views-field-counter\" headers=\"view-counter-table-column\">3          </td>\n",
       " <td class=\"views-field views-field-field-speeches-date\" headers=\"view-field-speeches-date-table-column\">20-12-2024          </td>\n",
       " <td class=\"views-field views-field-field-speeches\" headers=\"view-field-speeches-table-column\"><a href=\"/speeches/address-honble-president-india-smt-droupadi-murmu-occasion-presentation-colours-college\">ADDRESS BY THE HON’BLE PRESIDENT OF INDIA SMT. DROUPADI MURMU ON THE OCCASION OF PRESENTATION OF COLOURS TO COLLEGE OF DEFENCE MANAGEMENT, SECUNDERABAD</a> </td>\n",
       " </tr>\n",
       " <tr>\n",
       " <td class=\"views-field views-field-counter\" headers=\"view-counter-table-column\">4          </td>\n",
       " <td class=\"views-field views-field-field-speeches-date\" headers=\"view-field-speeches-date-table-column\">17-12-2024          </td>\n",
       " <td class=\"views-field views-field-field-speeches\" headers=\"view-field-speeches-table-column\"><a href=\"/speeches/bhaarata-kai-raasatarapatai-saraimatai-daraaupadai-mauramau-kaa-aiims-mangalagairai-kae\">भारत की राष्ट्रपति, श्रीमती द्रौपदी मुर्मु का AIIMS – मंगलगिरि के प्रथम दीक्षांत समारोह में सम्बोधन (HINDI)</a> </td>\n",
       " </tr>\n",
       " <tr>\n",
       " <td class=\"views-field views-field-counter\" headers=\"view-counter-table-column\">5          </td>\n",
       " <td class=\"views-field views-field-field-speeches-date\" headers=\"view-field-speeches-date-table-column\">16-12-2024          </td>\n",
       " <td class=\"views-field views-field-field-speeches\" headers=\"view-field-speeches-table-column\"><a href=\"/speeches/speech-president-india-smt-droupadi-murmu-banquet-hosted-honour-his-excellency-anura\">SPEECH BY THE PRESIDENT OF INDIA, SMT DROUPADI MURMU AT THE BANQUET HOSTED IN HONOUR OF  HIS EXCELLENCY ANURA KUMARA DISANAYAKA  PRESIDENT OF THE DEMOCRATIC SOCIALIST REPUBLIC OF SRI LANKA<br/>\n",
       " </a> </td>\n",
       " </tr>\n",
       " <tr>\n",
       " <td class=\"views-field views-field-counter\" headers=\"view-counter-table-column\">6          </td>\n",
       " <td class=\"views-field views-field-field-speeches-date\" headers=\"view-field-speeches-date-table-column\">11-12-2024          </td>\n",
       " <td class=\"views-field views-field-field-speeches\" headers=\"view-field-speeches-table-column\"><a href=\"/speeches/bhaarata-kai-raasatarapatai-saraimatai-daraaupadai-mauramau-kaa-raasataraiya-pancaayata\">भारत की राष्ट्रपति, श्रीमती द्रौपदी मुर्मु का राष्ट्रीय पंचायत पुरस्कार वितरण समारोह में सम्बोधन (HINDI)</a> </td>\n",
       " </tr>\n",
       " <tr>\n",
       " <td class=\"views-field views-field-counter\" headers=\"view-counter-table-column\">7          </td>\n",
       " <td class=\"views-field views-field-field-speeches-date\" headers=\"view-field-speeches-date-table-column\">10-12-2024          </td>\n",
       " <td class=\"views-field views-field-field-speeches\" headers=\"view-field-speeches-table-column\"><a href=\"/speeches/address-honble-president-india-smt-droupadi-murmu-occasion-human-rights-day\">ADDRESS BY THE HON’BLE PRESIDENT OF INDIA, SMT DROUPADI MURMU ON THE OCCASION OF HUMAN RIGHTS DAY</a> </td>\n",
       " </tr>\n",
       " <tr>\n",
       " <td class=\"views-field views-field-counter\" headers=\"view-counter-table-column\">8          </td>\n",
       " <td class=\"views-field views-field-field-speeches-date\" headers=\"view-field-speeches-date-table-column\">04-12-2024          </td>\n",
       " <td class=\"views-field views-field-field-speeches\" headers=\"view-field-speeches-table-column\"><a href=\"/speeches/address-honble-president-india-smt-droupadi-murmu-occasion-navy-day\">ADDRESS BY THE HON’BLE PRESIDENT OF INDIA, SMT. DROUPADI MURMU ON THE OCCASION OF NAVY DAY</a> </td>\n",
       " </tr>\n",
       " <tr>\n",
       " <td class=\"views-field views-field-counter\" headers=\"view-counter-table-column\">9          </td>\n",
       " <td class=\"views-field views-field-field-speeches-date\" headers=\"view-field-speeches-date-table-column\">03-12-2024          </td>\n",
       " <td class=\"views-field views-field-field-speeches\" headers=\"view-field-speeches-table-column\"><a href=\"/speeches/bhaarata-kai-raasatarapatai-saraimatai-daraaupadai-mauramau-kaa-daivayaanga-jana\">भारत की राष्ट्रपति श्रीमती द्रौपदी मुर्मु का दिव्यांग-जन सशक्तीकरण के क्षेत्र में 2024 के राष्ट्रीय पुरस्कार समारोह में सम्बोधन (HINDI)</a> </td>\n",
       " </tr>\n",
       " <tr>\n",
       " <td class=\"views-field views-field-counter\" headers=\"view-counter-table-column\">10          </td>\n",
       " <td class=\"views-field views-field-field-speeches-date\" headers=\"view-field-speeches-date-table-column\">02-12-2024          </td>\n",
       " <td class=\"views-field views-field-field-speeches\" headers=\"view-field-speeches-table-column\"><a href=\"/speeches/bhaarata-kai-raasatarapatai-saraimatai-daraaupadai-mauramau-kaa-bhaarataiya-raajasava\">भारत की राष्ट्रपति श्रीमती द्रौपदी मुर्मु का भारतीय राजस्व सेवा (सीमा शुल्क और अप्रत्यक्ष कर) के प्रशिक्षु अधिकारियों से मुलाकात के अवसर पर सम्बोधन (HINDI)</a> </td>\n",
       " </tr>\n",
       " </tbody>\n",
       " </table>]"
      ]
     },
     "execution_count": 25,
     "metadata": {},
     "output_type": "execute_result"
    }
   ],
   "source": [
    "konusma_tablosu"
   ]
  },
  {
   "cell_type": "markdown",
   "metadata": {},
   "source": [
    "# soru 3\n",
    "\n",
    "tbody etiketini bulub ve içerisinden bütün tr etiketlerini ayıklayın ve bunu satırlar isimli bir değişkene atayın."
   ]
  },
  {
   "cell_type": "code",
   "execution_count": 56,
   "metadata": {},
   "outputs": [],
   "source": [
    "satirlar = soup.find('tbody').find_all('tr')"
   ]
  },
  {
   "cell_type": "code",
   "execution_count": null,
   "metadata": {},
   "outputs": [],
   "source": [
    "satirlar"
   ]
  },
  {
   "cell_type": "markdown",
   "metadata": {},
   "source": [
    "# soru 4 \n",
    "\n",
    "satırlar içerisinden döngü başlat ve her bir satırdaki sütunları bulmak için td etiketini bul."
   ]
  },
  {
   "cell_type": "code",
   "execution_count": 62,
   "metadata": {},
   "outputs": [
    {
     "name": "stdout",
     "output_type": "stream",
     "text": [
      "[<td class=\"views-field views-field-counter\" headers=\"view-counter-table-column\">1          </td>, <td class=\"views-field views-field-field-speeches-date\" headers=\"view-field-speeches-date-table-column\">26-12-2024          </td>, <td class=\"views-field views-field-field-speeches\" headers=\"view-field-speeches-table-column\"><a href=\"/speeches/bhaarata-kai-raasatarapatai-saraimatai-daraaupadai-mauramau-kaa-paradhaana-mantarai\">भारत की राष्ट्रपति श्रीमती द्रौपदी मुर्मु का प्रधान मंत्री राष्ट्रीय बाल पुरस्कार समारोह में सम्बोधन (HINDI)</a> </td>]\n",
      "[<td class=\"views-field views-field-counter\" headers=\"view-counter-table-column\">2          </td>, <td class=\"views-field views-field-field-speeches-date\" headers=\"view-field-speeches-date-table-column\">23-12-2024          </td>, <td class=\"views-field views-field-field-speeches\" headers=\"view-field-speeches-table-column\"><a href=\"/speeches/bhaarata-kai-raasatarapatai-saraimatai-daraaupadai-mauramau-kaa-varadhamaana-mahaavaira\">भारत की राष्ट्रपति, श्रीमती द्रौपदी मुर्मु का वर्धमान महावीर मेडिकल कॉलेज एवं सफदरजंग अस्पताल के दीक्षांत समारोह में सम्बोधन (HINDI)</a> </td>]\n",
      "[<td class=\"views-field views-field-counter\" headers=\"view-counter-table-column\">3          </td>, <td class=\"views-field views-field-field-speeches-date\" headers=\"view-field-speeches-date-table-column\">20-12-2024          </td>, <td class=\"views-field views-field-field-speeches\" headers=\"view-field-speeches-table-column\"><a href=\"/speeches/address-honble-president-india-smt-droupadi-murmu-occasion-presentation-colours-college\">ADDRESS BY THE HON’BLE PRESIDENT OF INDIA SMT. DROUPADI MURMU ON THE OCCASION OF PRESENTATION OF COLOURS TO COLLEGE OF DEFENCE MANAGEMENT, SECUNDERABAD</a> </td>]\n",
      "[<td class=\"views-field views-field-counter\" headers=\"view-counter-table-column\">4          </td>, <td class=\"views-field views-field-field-speeches-date\" headers=\"view-field-speeches-date-table-column\">17-12-2024          </td>, <td class=\"views-field views-field-field-speeches\" headers=\"view-field-speeches-table-column\"><a href=\"/speeches/bhaarata-kai-raasatarapatai-saraimatai-daraaupadai-mauramau-kaa-aiims-mangalagairai-kae\">भारत की राष्ट्रपति, श्रीमती द्रौपदी मुर्मु का AIIMS – मंगलगिरि के प्रथम दीक्षांत समारोह में सम्बोधन (HINDI)</a> </td>]\n",
      "[<td class=\"views-field views-field-counter\" headers=\"view-counter-table-column\">5          </td>, <td class=\"views-field views-field-field-speeches-date\" headers=\"view-field-speeches-date-table-column\">16-12-2024          </td>, <td class=\"views-field views-field-field-speeches\" headers=\"view-field-speeches-table-column\"><a href=\"/speeches/speech-president-india-smt-droupadi-murmu-banquet-hosted-honour-his-excellency-anura\">SPEECH BY THE PRESIDENT OF INDIA, SMT DROUPADI MURMU AT THE BANQUET HOSTED IN HONOUR OF  HIS EXCELLENCY ANURA KUMARA DISANAYAKA  PRESIDENT OF THE DEMOCRATIC SOCIALIST REPUBLIC OF SRI LANKA<br/>\n",
      "</a> </td>]\n",
      "[<td class=\"views-field views-field-counter\" headers=\"view-counter-table-column\">6          </td>, <td class=\"views-field views-field-field-speeches-date\" headers=\"view-field-speeches-date-table-column\">11-12-2024          </td>, <td class=\"views-field views-field-field-speeches\" headers=\"view-field-speeches-table-column\"><a href=\"/speeches/bhaarata-kai-raasatarapatai-saraimatai-daraaupadai-mauramau-kaa-raasataraiya-pancaayata\">भारत की राष्ट्रपति, श्रीमती द्रौपदी मुर्मु का राष्ट्रीय पंचायत पुरस्कार वितरण समारोह में सम्बोधन (HINDI)</a> </td>]\n",
      "[<td class=\"views-field views-field-counter\" headers=\"view-counter-table-column\">7          </td>, <td class=\"views-field views-field-field-speeches-date\" headers=\"view-field-speeches-date-table-column\">10-12-2024          </td>, <td class=\"views-field views-field-field-speeches\" headers=\"view-field-speeches-table-column\"><a href=\"/speeches/address-honble-president-india-smt-droupadi-murmu-occasion-human-rights-day\">ADDRESS BY THE HON’BLE PRESIDENT OF INDIA, SMT DROUPADI MURMU ON THE OCCASION OF HUMAN RIGHTS DAY</a> </td>]\n",
      "[<td class=\"views-field views-field-counter\" headers=\"view-counter-table-column\">8          </td>, <td class=\"views-field views-field-field-speeches-date\" headers=\"view-field-speeches-date-table-column\">04-12-2024          </td>, <td class=\"views-field views-field-field-speeches\" headers=\"view-field-speeches-table-column\"><a href=\"/speeches/address-honble-president-india-smt-droupadi-murmu-occasion-navy-day\">ADDRESS BY THE HON’BLE PRESIDENT OF INDIA, SMT. DROUPADI MURMU ON THE OCCASION OF NAVY DAY</a> </td>]\n",
      "[<td class=\"views-field views-field-counter\" headers=\"view-counter-table-column\">9          </td>, <td class=\"views-field views-field-field-speeches-date\" headers=\"view-field-speeches-date-table-column\">03-12-2024          </td>, <td class=\"views-field views-field-field-speeches\" headers=\"view-field-speeches-table-column\"><a href=\"/speeches/bhaarata-kai-raasatarapatai-saraimatai-daraaupadai-mauramau-kaa-daivayaanga-jana\">भारत की राष्ट्रपति श्रीमती द्रौपदी मुर्मु का दिव्यांग-जन सशक्तीकरण के क्षेत्र में 2024 के राष्ट्रीय पुरस्कार समारोह में सम्बोधन (HINDI)</a> </td>]\n",
      "[<td class=\"views-field views-field-counter\" headers=\"view-counter-table-column\">10          </td>, <td class=\"views-field views-field-field-speeches-date\" headers=\"view-field-speeches-date-table-column\">02-12-2024          </td>, <td class=\"views-field views-field-field-speeches\" headers=\"view-field-speeches-table-column\"><a href=\"/speeches/bhaarata-kai-raasatarapatai-saraimatai-daraaupadai-mauramau-kaa-bhaarataiya-raajasava\">भारत की राष्ट्रपति श्रीमती द्रौपदी मुर्मु का भारतीय राजस्व सेवा (सीमा शुल्क और अप्रत्यक्ष कर) के प्रशिक्षु अधिकारियों से मुलाकात के अवसर पर सम्बोधन (HINDI)</a> </td>]\n"
     ]
    }
   ],
   "source": [
    "for satir in satirlar:\n",
    "    sutun_bulma = satir.find_all('td')\n",
    "    print(sutun_bulma)"
   ]
  },
  {
   "cell_type": "code",
   "execution_count": 72,
   "metadata": {},
   "outputs": [
    {
     "name": "stdout",
     "output_type": "stream",
     "text": [
      "('1', '26-12-2024', 'भारत की राष्ट्रपति श्रीमती द्रौपदी मुर्मु का प्रधान मंत्री राष्ट्रीय बाल पुरस्कार समारोह में सम्बोधन (HINDI)', 'https://presidentofindia.nic.in//speeches/bhaarata-kai-raasatarapatai-saraimatai-daraaupadai-mauramau-kaa-paradhaana-mantarai')\n",
      "('2', '23-12-2024', 'भारत की राष्ट्रपति, श्रीमती द्रौपदी मुर्मु का वर्धमान महावीर मेडिकल कॉलेज एवं सफदरजंग अस्पताल के दीक्षांत समारोह में सम्बोधन (HINDI)', 'https://presidentofindia.nic.in//speeches/bhaarata-kai-raasatarapatai-saraimatai-daraaupadai-mauramau-kaa-varadhamaana-mahaavaira')\n",
      "('3', '20-12-2024', 'ADDRESS BY THE HON’BLE PRESIDENT OF INDIA SMT. DROUPADI MURMU ON THE OCCASION OF PRESENTATION OF COLOURS TO COLLEGE OF DEFENCE MANAGEMENT, SECUNDERABAD', 'https://presidentofindia.nic.in//speeches/address-honble-president-india-smt-droupadi-murmu-occasion-presentation-colours-college')\n",
      "('4', '17-12-2024', 'भारत की राष्ट्रपति, श्रीमती द्रौपदी मुर्मु का AIIMS – मंगलगिरि के प्रथम दीक्षांत समारोह में सम्बोधन (HINDI)', 'https://presidentofindia.nic.in//speeches/bhaarata-kai-raasatarapatai-saraimatai-daraaupadai-mauramau-kaa-aiims-mangalagairai-kae')\n",
      "('5', '16-12-2024', 'SPEECH BY THE PRESIDENT OF INDIA, SMT DROUPADI MURMU AT THE BANQUET HOSTED IN HONOUR OF  HIS EXCELLENCY ANURA KUMARA DISANAYAKA  PRESIDENT OF THE DEMOCRATIC SOCIALIST REPUBLIC OF SRI LANKA', 'https://presidentofindia.nic.in//speeches/speech-president-india-smt-droupadi-murmu-banquet-hosted-honour-his-excellency-anura')\n",
      "('6', '11-12-2024', 'भारत की राष्ट्रपति, श्रीमती द्रौपदी मुर्मु का राष्ट्रीय पंचायत पुरस्कार वितरण समारोह में सम्बोधन (HINDI)', 'https://presidentofindia.nic.in//speeches/bhaarata-kai-raasatarapatai-saraimatai-daraaupadai-mauramau-kaa-raasataraiya-pancaayata')\n",
      "('7', '10-12-2024', 'ADDRESS BY THE HON’BLE PRESIDENT OF INDIA, SMT DROUPADI MURMU ON THE OCCASION OF HUMAN RIGHTS DAY', 'https://presidentofindia.nic.in//speeches/address-honble-president-india-smt-droupadi-murmu-occasion-human-rights-day')\n",
      "('8', '04-12-2024', 'ADDRESS BY THE HON’BLE PRESIDENT OF INDIA, SMT. DROUPADI MURMU ON THE OCCASION OF NAVY DAY', 'https://presidentofindia.nic.in//speeches/address-honble-president-india-smt-droupadi-murmu-occasion-navy-day')\n",
      "('9', '03-12-2024', 'भारत की राष्ट्रपति श्रीमती द्रौपदी मुर्मु का दिव्यांग-जन सशक्तीकरण के क्षेत्र में 2024 के राष्ट्रीय पुरस्कार समारोह में सम्बोधन (HINDI)', 'https://presidentofindia.nic.in//speeches/bhaarata-kai-raasatarapatai-saraimatai-daraaupadai-mauramau-kaa-daivayaanga-jana')\n",
      "('10', '02-12-2024', 'भारत की राष्ट्रपति श्रीमती द्रौपदी मुर्मु का भारतीय राजस्व सेवा (सीमा शुल्क और अप्रत्यक्ष कर) के प्रशिक्षु अधिकारियों से मुलाकात के अवसर पर सम्बोधन (HINDI)', 'https://presidentofindia.nic.in//speeches/bhaarata-kai-raasatarapatai-saraimatai-daraaupadai-mauramau-kaa-bhaarataiya-raajasava')\n"
     ]
    }
   ],
   "source": [
    "konusma_verileri = []\n",
    "\n",
    "for satir in satirlar:\n",
    "    sutun = satir.find_all('td')\n",
    "    if len(sutun) >= 3:  # Minimum 4 sütun kontrolü\n",
    "        sr_no = sutun[0].get_text(strip=True)\n",
    "        issue_date = sutun[1].get_text(strip=True)\n",
    "        title = sutun[2].get_text(strip=True)\n",
    "\n",
    "        # Link kısmı\n",
    "        link = sutun[2].find('a')['href']\n",
    "        full_link = 'https://presidentofindia.nic.in/' + link  # Tam URL oluşturma\n",
    "\n",
    "        # Veriyi listeye ekleme\n",
    "        konusma_verileri.append((sr_no, issue_date, title, full_link))\n",
    "\n",
    "# Verileri yazdırma\n",
    "for data in konusma_verileri:\n",
    "    print(data)\n"
   ]
  },
  {
   "cell_type": "markdown",
   "metadata": {},
   "source": [
    "# soru 5\n",
    "yukarıda oluşturduğumuz konuşma verileri isimli data dataframe dönüştürün ve csv dosyası olarak kayıt edin."
   ]
  },
  {
   "cell_type": "code",
   "execution_count": null,
   "metadata": {},
   "outputs": [],
   "source": [
    "import pandas as pd\n",
    "\n",
    "df = pd.DataFrame(konusma_verileri, columns=['Sr No', 'Issue Date', 'Title', 'Full Link'])\n",
    "df.to_csv('konusma_verileri.csv', index=False, encoding='utf-8')\n",
    "df.head()\n"
   ]
  },
  {
   "cell_type": "code",
   "execution_count": 77,
   "metadata": {},
   "outputs": [
    {
     "data": {
      "text/html": [
       "<div>\n",
       "<style scoped>\n",
       "    .dataframe tbody tr th:only-of-type {\n",
       "        vertical-align: middle;\n",
       "    }\n",
       "\n",
       "    .dataframe tbody tr th {\n",
       "        vertical-align: top;\n",
       "    }\n",
       "\n",
       "    .dataframe thead th {\n",
       "        text-align: right;\n",
       "    }\n",
       "</style>\n",
       "<table border=\"1\" class=\"dataframe\">\n",
       "  <thead>\n",
       "    <tr style=\"text-align: right;\">\n",
       "      <th></th>\n",
       "      <th>Sr No</th>\n",
       "      <th>Issue Date</th>\n",
       "      <th>Title</th>\n",
       "      <th>Full Link</th>\n",
       "    </tr>\n",
       "  </thead>\n",
       "  <tbody>\n",
       "    <tr>\n",
       "      <th>0</th>\n",
       "      <td>1</td>\n",
       "      <td>26-12-2024</td>\n",
       "      <td>भारत की राष्ट्रपति श्रीमती द्रौपदी मुर्मु का प...</td>\n",
       "      <td>https://presidentofindia.nic.in//speeches/bhaa...</td>\n",
       "    </tr>\n",
       "    <tr>\n",
       "      <th>1</th>\n",
       "      <td>2</td>\n",
       "      <td>23-12-2024</td>\n",
       "      <td>भारत की राष्ट्रपति, श्रीमती द्रौपदी मुर्मु का ...</td>\n",
       "      <td>https://presidentofindia.nic.in//speeches/bhaa...</td>\n",
       "    </tr>\n",
       "    <tr>\n",
       "      <th>2</th>\n",
       "      <td>3</td>\n",
       "      <td>20-12-2024</td>\n",
       "      <td>ADDRESS BY THE HON’BLE PRESIDENT OF INDIA SMT....</td>\n",
       "      <td>https://presidentofindia.nic.in//speeches/addr...</td>\n",
       "    </tr>\n",
       "    <tr>\n",
       "      <th>3</th>\n",
       "      <td>4</td>\n",
       "      <td>17-12-2024</td>\n",
       "      <td>भारत की राष्ट्रपति, श्रीमती द्रौपदी मुर्मु का ...</td>\n",
       "      <td>https://presidentofindia.nic.in//speeches/bhaa...</td>\n",
       "    </tr>\n",
       "    <tr>\n",
       "      <th>4</th>\n",
       "      <td>5</td>\n",
       "      <td>16-12-2024</td>\n",
       "      <td>SPEECH BY THE PRESIDENT OF INDIA, SMT DROUPADI...</td>\n",
       "      <td>https://presidentofindia.nic.in//speeches/spee...</td>\n",
       "    </tr>\n",
       "  </tbody>\n",
       "</table>\n",
       "</div>"
      ],
      "text/plain": [
       "   Sr No  Issue Date                                              Title  \\\n",
       "0      1  26-12-2024  भारत की राष्ट्रपति श्रीमती द्रौपदी मुर्मु का प...   \n",
       "1      2  23-12-2024  भारत की राष्ट्रपति, श्रीमती द्रौपदी मुर्मु का ...   \n",
       "2      3  20-12-2024  ADDRESS BY THE HON’BLE PRESIDENT OF INDIA SMT....   \n",
       "3      4  17-12-2024  भारत की राष्ट्रपति, श्रीमती द्रौपदी मुर्मु का ...   \n",
       "4      5  16-12-2024  SPEECH BY THE PRESIDENT OF INDIA, SMT DROUPADI...   \n",
       "\n",
       "                                           Full Link  \n",
       "0  https://presidentofindia.nic.in//speeches/bhaa...  \n",
       "1  https://presidentofindia.nic.in//speeches/bhaa...  \n",
       "2  https://presidentofindia.nic.in//speeches/addr...  \n",
       "3  https://presidentofindia.nic.in//speeches/bhaa...  \n",
       "4  https://presidentofindia.nic.in//speeches/spee...  "
      ]
     },
     "execution_count": 77,
     "metadata": {},
     "output_type": "execute_result"
    }
   ],
   "source": [
    "df = pd.read_csv('/workspaces/Web_Veri_-ekme/konusma_verileri.csv')\n",
    "df.head()"
   ]
  }
 ],
 "metadata": {
  "kernelspec": {
   "display_name": "sanal_ortam",
   "language": "python",
   "name": "python3"
  },
  "language_info": {
   "codemirror_mode": {
    "name": "ipython",
    "version": 3
   },
   "file_extension": ".py",
   "mimetype": "text/x-python",
   "name": "python",
   "nbconvert_exporter": "python",
   "pygments_lexer": "ipython3",
   "version": "3.12.1"
  }
 },
 "nbformat": 4,
 "nbformat_minor": 2
}
